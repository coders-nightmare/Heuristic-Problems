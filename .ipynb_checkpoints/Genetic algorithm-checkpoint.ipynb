{
 "cells": [
  {
   "cell_type": "code",
   "execution_count": 1,
   "metadata": {},
   "outputs": [],
   "source": [
    "import numpy as np\n",
    "import pandas as pd"
   ]
  },
  {
   "cell_type": "code",
   "execution_count": 2,
   "metadata": {},
   "outputs": [],
   "source": [
    "def fitness_eval(p):\n",
    "    return -5*p*p + 1000*p"
   ]
  },
  {
   "cell_type": "code",
   "execution_count": 3,
   "metadata": {},
   "outputs": [],
   "source": [
    "def initial_population(size,constraints):\n",
    "    low,high=constraints\n",
    "    population=np.random.randint(low,high,size)\n",
    "    return population"
   ]
  },
  {
   "cell_type": "code",
   "execution_count": 4,
   "metadata": {},
   "outputs": [],
   "source": [
    "def parent_selection(population,chromosomes):\n",
    "    population_fitness=np.array([fitness_eval(x) for x in population])\n",
    "    print(\"population fitness =\",population_fitness)\n",
    "    total_fitness=np.sum(population_fitness)\n",
    "    print(\"total fitness =\",total_fitness)\n",
    "    fitness_probability=population_fitness/total_fitness\n",
    "    print(\"fitness probability =\",fitness_probability)\n",
    "    cummulative_wheel=np.cumsum(fitness_probability)\n",
    "    print(\"cummulative wheel =\",cummulative_wheel)\n",
    "    # Generating random values of probability for chromosomes using roulette wheel\n",
    "    random_chromosome_probab=np.random.uniform(0,1,size=chromosomes)\n",
    "    print(\"random chromosomes probability =\",random_chromosome_probab)\n",
    "    #finding index of random chromosomes\n",
    "    chromosome_index=np.searchsorted(cummulative_wheel,random_chromosome_probab)\n",
    "    print(\"chromosome index =\",chromosome_index)\n",
    "    parent_selected=np.array([population[x] for x in chromosome_index])\n",
    "    return parent_selected"
   ]
  },
  {
   "cell_type": "code",
   "execution_count": 5,
   "metadata": {},
   "outputs": [
    {
     "data": {
      "text/plain": [
       "(array([173, 157, 160,  65,  53,  80]), array([ 59, 136, 165,  53,  57, 126]))"
      ]
     },
     "execution_count": 5,
     "metadata": {},
     "output_type": "execute_result"
    }
   ],
   "source": [
    "population1=initial_population(6,(50,200))\n",
    "population2=initial_population(6,(50,200))\n",
    "population1,population2"
   ]
  },
  {
   "cell_type": "code",
   "execution_count": 6,
   "metadata": {},
   "outputs": [
    {
     "name": "stdout",
     "output_type": "stream",
     "text": [
      "population fitness = [23355 33755 32000 43875 38955 48000]\n",
      "total fitness = 219940\n",
      "fitness probability = [0.10618805 0.15347367 0.14549423 0.19948622 0.17711649 0.21824134]\n",
      "cummulative wheel = [0.10618805 0.25966173 0.40515595 0.60464218 0.78175866 1.        ]\n",
      "random chromosomes probability = [0.20781779 0.2556162  0.32393753 0.7579068  0.42674246 0.36352993]\n",
      "chromosome index = [1 1 2 4 3 2]\n",
      "population fitness = [41595 43520 28875 38955 40755 46620]\n",
      "total fitness = 240320\n",
      "fitness probability = [0.17308172 0.18109188 0.1201523  0.16209637 0.16958638 0.19399134]\n",
      "cummulative wheel = [0.17308172 0.3541736  0.4743259  0.63642227 0.80600866 1.        ]\n",
      "random chromosomes probability = [0.2453447  0.10311304 0.39155422 0.17026274 0.27198978 0.24863653]\n",
      "chromosome index = [1 0 2 0 1 1]\n"
     ]
    },
    {
     "data": {
      "text/plain": [
       "(array([157, 157, 160,  53,  65, 160]), array([136,  59, 165,  59, 136, 136]))"
      ]
     },
     "execution_count": 6,
     "metadata": {},
     "output_type": "execute_result"
    }
   ],
   "source": [
    "parent1=parent_selection(population1,6)\n",
    "parent2=parent_selection(population2,6)\n",
    "parent1,parent2"
   ]
  },
  {
   "cell_type": "code",
   "execution_count": 7,
   "metadata": {},
   "outputs": [],
   "source": [
    "def crossover_participent(parent,crossover_parameter):\n",
    "    n=round(crossover_parameter*len(parent))\n",
    "    selected_parents=np.random.choice(parent,n,replace=False)\n",
    "#     print(\"parents selected for crossover =\",selected_parents)\n",
    "    return selected_parents\n",
    "    "
   ]
  },
  {
   "cell_type": "code",
   "execution_count": 30,
   "metadata": {},
   "outputs": [],
   "source": [
    "def crossover(parent1, parent2, min_value, max_value):\n",
    "    # Initialize offspring arrays\n",
    "    offspring1 = np.zeros_like(parent1)\n",
    "    offspring2 = np.zeros_like(parent2)\n",
    "    \n",
    "    # Perform crossover for each element in the parent arrays\n",
    "    for i in range(len(parent1)):\n",
    "        # Randomly select a value between the corresponding elements in the parent arrays\n",
    "        if(parent1[i]==parent2[i]):\n",
    "            value1=parent1[i]\n",
    "            value2=parent1[i]\n",
    "        else:\n",
    "            value1 = np.random.randint(min(parent1[i], parent2[i]), max(parent1[i], parent2[i]))\n",
    "            value2 = np.random.randint(min(parent1[i], parent2[i]), max(parent1[i], parent2[i]))\n",
    "        \n",
    "        # Ensure that the selected values are within the given range\n",
    "        value1 = min(max(value1, min_value), max_value)\n",
    "        value2 = min(max(value2, min_value), max_value)\n",
    "        \n",
    "        # Add the selected values to the offspring arrays\n",
    "        offspring1[i] = value1\n",
    "        offspring2[i] = value2\n",
    "    \n",
    "    return offspring1, offspring2"
   ]
  },
  {
   "cell_type": "code",
   "execution_count": 9,
   "metadata": {},
   "outputs": [
    {
     "data": {
      "text/plain": [
       "(array([157, 160,  65, 157, 160,  53]), array([136,  59, 136,  59, 136, 165]))"
      ]
     },
     "execution_count": 9,
     "metadata": {},
     "output_type": "execute_result"
    }
   ],
   "source": [
    "parent1=crossover_participent(parent1,1)\n",
    "parent2=crossover_participent(parent2,1)\n",
    "parent1,parent2"
   ]
  },
  {
   "cell_type": "code",
   "execution_count": 10,
   "metadata": {},
   "outputs": [],
   "source": [
    "offspring1,offspring2=crossover(parent1,parent2,50,200)"
   ]
  },
  {
   "cell_type": "code",
   "execution_count": 11,
   "metadata": {},
   "outputs": [
    {
     "data": {
      "text/plain": [
       "(array([156,  84,  71, 101, 143,  95]), array([144, 128, 104,  62, 145,  95]))"
      ]
     },
     "execution_count": 11,
     "metadata": {},
     "output_type": "execute_result"
    }
   ],
   "source": [
    "offspring1,offspring2"
   ]
  },
  {
   "cell_type": "code",
   "execution_count": 12,
   "metadata": {},
   "outputs": [
    {
     "data": {
      "text/plain": [
       "array([156,  84,  71, 101, 143,  95, 144, 128, 104,  62, 145,  95])"
      ]
     },
     "execution_count": 12,
     "metadata": {},
     "output_type": "execute_result"
    }
   ],
   "source": [
    "offsprings=np.concatenate((offspring1,offspring2),axis=None)\n",
    "offsprings"
   ]
  },
  {
   "cell_type": "code",
   "execution_count": 13,
   "metadata": {},
   "outputs": [],
   "source": [
    "def mutation(offsprings,bit_position):\n",
    "    bit_mask=1<<bit_position\n",
    "    offsprings^=bit_mask\n",
    "    return offsprings"
   ]
  },
  {
   "cell_type": "code",
   "execution_count": 14,
   "metadata": {},
   "outputs": [
    {
     "data": {
      "text/plain": [
       "array([152,  80,  67,  97, 139,  91, 148, 132, 108,  58, 149,  91])"
      ]
     },
     "execution_count": 14,
     "metadata": {},
     "output_type": "execute_result"
    }
   ],
   "source": [
    "mutated_offsprings=mutation(offsprings,2)\n",
    "mutated_offsprings"
   ]
  },
  {
   "cell_type": "code",
   "execution_count": 15,
   "metadata": {
    "scrolled": true
   },
   "outputs": [
    {
     "data": {
      "text/plain": [
       "array([36480, 48000, 44555, 49955, 42395, 49595, 38480, 44880, 49680,\n",
       "       41180, 37995, 49595])"
      ]
     },
     "execution_count": 15,
     "metadata": {},
     "output_type": "execute_result"
    }
   ],
   "source": [
    "offsprings_fitness=np.array([fitness_eval(x) for x in mutated_offsprings])\n",
    "offsprings_fitness"
   ]
  },
  {
   "cell_type": "code",
   "execution_count": 16,
   "metadata": {},
   "outputs": [],
   "source": [
    "def make_population(offsprings):\n",
    "    # randomly shuffle the indices of the array\n",
    "    shuffled_indices = np.random.permutation(offsprings.shape[0])\n",
    "\n",
    "    # split the array into two parts using the shuffled indices\n",
    "    split_index = int(offsprings.shape[0] / 2)\n",
    "    arr1 = offsprings[shuffled_indices[:split_index]]\n",
    "    arr2 = offsprings[shuffled_indices[split_index:]]\n",
    "    return arr1,arr2"
   ]
  },
  {
   "cell_type": "code",
   "execution_count": 25,
   "metadata": {},
   "outputs": [],
   "source": [
    "def geneticAlgo(population1,population2,n):\n",
    "    mutated_offspirngs=[]\n",
    "    for i in range(n):\n",
    "        print(\"population1 =\",population1)\n",
    "        print(\"population2 =\",population2)\n",
    "        print()\n",
    "        parent1=parent_selection(population1,6)\n",
    "        parent2=parent_selection(population2,6)\n",
    "        print(\"selected parent 1=\",parent1)\n",
    "        print(\"selected parent 2=\",parent2)\n",
    "        print()\n",
    "#         parent1=crossover_participent(parent1,1)\n",
    "#         parent2=crossover_participent(parent2,1)\n",
    "#         print(\"crossovered parent 1=\",parent1)\n",
    "#         print(\"crossovered parent 2=\",parent2)\n",
    "#         print()\n",
    "        offspring1,offspring2=crossover(parent1,parent2,50,200)\n",
    "        print(\"offspirng1 =\",offspring1)\n",
    "        print(\"offspring2 =\",offspring2)\n",
    "        print()\n",
    "        offsprings=np.concatenate((offspring1,offspring2),axis=None)\n",
    "        print(\"offsprings =\",offsprings)\n",
    "        print()\n",
    "        mutated_offsprings=mutation(offsprings,2)\n",
    "        print(\"mutated_offsprings =\",mutated_offsprings)\n",
    "        print()\n",
    "        population1,population2=make_population(mutated_offsprings)\n",
    "    \n",
    "    return mutated_offsprings\n",
    "    \n"
   ]
  },
  {
   "cell_type": "code",
   "execution_count": 31,
   "metadata": {},
   "outputs": [
    {
     "name": "stdout",
     "output_type": "stream",
     "text": [
      "population1 = [108 173 126  97 131 106]\n",
      "population2 = [127 169 191 143  67 101]\n",
      "\n",
      "population fitness = [49680 23355 46620 49955 45195 49820]\n",
      "total fitness = 264625\n",
      "fitness probability = [0.18773736 0.08825697 0.17617383 0.18877657 0.17078885 0.18826641]\n",
      "cummulative wheel = [0.18773736 0.27599433 0.45216816 0.64094473 0.81173359 1.        ]\n",
      "random chromosomes probability = [0.94689833 0.36939945 0.07224521 0.98721221 0.89354328 0.77874816]\n",
      "chromosome index = [5 2 0 5 5 4]\n",
      "population fitness = [46355 26195  8595 40755 44555 49995]\n",
      "total fitness = 216450\n",
      "fitness probability = [0.21416031 0.12102102 0.03970894 0.18828829 0.20584431 0.23097713]\n",
      "cummulative wheel = [0.21416031 0.33518134 0.37489027 0.56317856 0.76902287 1.        ]\n",
      "random chromosomes probability = [0.78323036 0.42038485 0.06676741 0.49597854 0.93147029 0.93689624]\n",
      "chromosome index = [5 3 0 3 5 5]\n",
      "selected parent 1= [106 126 108 106 106 131]\n",
      "selected parent 2= [101 143 127 143 101 101]\n",
      "\n",
      "offspirng1 = [105 139 123 136 105 115]\n",
      "offspring2 = [102 140 111 120 102 103]\n",
      "\n",
      "offsprings = [105 139 123 136 105 115 102 140 111 120 102 103]\n",
      "\n",
      "mutated_offsprings = [109 143 127 140 109 119  98 136 107 124  98  99]\n",
      "\n",
      "population1 = [ 99 136 109  98 127 140]\n",
      "population2 = [107 143 119  98 109 124]\n",
      "\n",
      "population fitness = [49995 43520 49595 49980 46355 42000]\n",
      "total fitness = 281445\n",
      "fitness probability = [0.17763684 0.15463057 0.1762156  0.17758354 0.16470358 0.14922987]\n",
      "cummulative wheel = [0.17763684 0.33226741 0.50848301 0.68606655 0.85077013 1.        ]\n",
      "random chromosomes probability = [0.82025389 0.69772811 0.61376691 0.25260095 0.7972693  0.28991214]\n",
      "chromosome index = [4 4 3 1 4 1]\n",
      "population fitness = [49755 40755 48195 49980 49595 47120]\n",
      "total fitness = 285400\n",
      "fitness probability = [0.17433427 0.14279958 0.16886826 0.17512263 0.17377365 0.16510161]\n",
      "cummulative wheel = [0.17433427 0.31713385 0.4860021  0.66112474 0.83489839 1.        ]\n",
      "random chromosomes probability = [0.00166302 0.51314778 0.39747201 0.31526258 0.04427471 0.33745404]\n",
      "chromosome index = [0 3 2 1 0 2]\n",
      "selected parent 1= [127 127  98 136 127 136]\n",
      "selected parent 2= [107  98 119 143 107 119]\n",
      "\n",
      "offspirng1 = [111 118 109 136 120 126]\n",
      "offspring2 = [109 123 105 136 107 135]\n",
      "\n",
      "offsprings = [111 118 109 136 120 126 109 123 105 136 107 135]\n",
      "\n",
      "mutated_offsprings = [107 114 105 140 124 122 105 127 109 140 111 131]\n",
      "\n",
      "population1 = [105 105 111 140 127 140]\n",
      "population2 = [122 107 114 124 109 131]\n",
      "\n",
      "population fitness = [49875 49875 49395 42000 46355 42000]\n",
      "total fitness = 279500\n",
      "fitness probability = [0.17844365 0.17844365 0.1767263  0.15026834 0.16584973 0.15026834]\n",
      "cummulative wheel = [0.17844365 0.3568873  0.5336136  0.68388193 0.84973166 1.        ]\n",
      "random chromosomes probability = [0.61149725 0.94597954 0.50890376 0.32085547 0.18461934 0.55477293]\n",
      "chromosome index = [3 5 2 1 1 3]\n",
      "population fitness = [47580 49755 49020 47120 49595 45195]\n",
      "total fitness = 288265\n",
      "fitness probability = [0.16505646 0.1726016  0.17005186 0.1634607  0.17204655 0.15678282]\n",
      "cummulative wheel = [0.16505646 0.33765806 0.50770992 0.67117062 0.84321718 1.        ]\n",
      "random chromosomes probability = [0.97708133 0.30159293 0.53017325 0.40914224 0.86823726 0.78182342]\n",
      "chromosome index = [5 1 3 2 5 4]\n",
      "selected parent 1= [140 140 111 105 105 140]\n",
      "selected parent 2= [131 107 124 114 131 109]\n",
      "\n",
      "offspirng1 = [134 128 123 107 129 138]\n",
      "offspring2 = [131 136 123 107 118 129]\n",
      "\n",
      "offsprings = [134 128 123 107 129 138 131 136 123 107 118 129]\n",
      "\n",
      "mutated_offsprings = [130 132 127 111 133 142 135 140 127 111 114 133]\n",
      "\n",
      "population1 = [127 142 111 133 114 132]\n",
      "population2 = [135 130 140 133 111 127]\n",
      "\n",
      "population fitness = [46355 41180 49395 44555 49020 44880]\n",
      "total fitness = 275385\n",
      "fitness probability = [0.16832798 0.1495361  0.17936707 0.16179167 0.17800534 0.16297184]\n",
      "cummulative wheel = [0.16832798 0.31786408 0.49723115 0.65902282 0.83702816 1.        ]\n",
      "random chromosomes probability = [0.02224703 0.12457936 0.62386064 0.86371758 0.62054906 0.23538778]\n",
      "chromosome index = [0 0 3 5 3 1]\n",
      "population fitness = [43875 45500 42000 44555 49395 46355]\n",
      "total fitness = 271680\n",
      "fitness probability = [0.16149514 0.16747644 0.15459364 0.16399809 0.18181316 0.17062353]\n",
      "cummulative wheel = [0.16149514 0.32897158 0.48356522 0.64756331 0.82937647 1.        ]\n",
      "random chromosomes probability = [0.72563526 0.12413506 0.82877203 0.61290774 0.30401091 0.94633888]\n",
      "chromosome index = [4 0 4 3 1 5]\n",
      "selected parent 1= [127 127 133 132 133 142]\n",
      "selected parent 2= [111 135 111 133 130 127]\n",
      "\n",
      "offspirng1 = [118 133 114 132 132 127]\n",
      "offspring2 = [125 134 114 132 130 128]\n",
      "\n",
      "offsprings = [118 133 114 132 132 127 125 134 114 132 130 128]\n",
      "\n",
      "mutated_offsprings = [114 129 118 128 128 123 121 130 118 128 134 132]\n",
      "\n",
      "population1 = [128 130 123 118 134 128]\n",
      "population2 = [132 128 118 121 129 114]\n",
      "\n",
      "population fitness = [46080 45500 47355 48380 44220 46080]\n",
      "total fitness = 277615\n",
      "fitness probability = [0.16598527 0.16389604 0.17057796 0.17427012 0.15928534 0.16598527]\n",
      "cummulative wheel = [0.16598527 0.32988131 0.50045927 0.67472939 0.83401473 1.        ]\n",
      "random chromosomes probability = [0.45898667 0.49346172 0.18093271 0.20975824 0.03917153 0.02132049]\n",
      "chromosome index = [2 2 1 1 0 0]\n",
      "population fitness = [44880 46080 48380 47795 45795 49020]\n",
      "total fitness = 281950\n",
      "fitness probability = [0.15917716 0.16343323 0.17159071 0.16951587 0.16242242 0.17386061]\n",
      "cummulative wheel = [0.15917716 0.32261039 0.4942011  0.66371697 0.82613939 1.        ]\n",
      "random chromosomes probability = [0.72243994 0.80606059 0.56690961 0.84879003 0.12833734 0.32376366]\n",
      "chromosome index = [4 4 3 5 0 2]\n",
      "selected parent 1= [123 123 130 130 128 128]\n",
      "selected parent 2= [129 129 121 114 132 118]\n",
      "\n",
      "offspirng1 = [126 124 123 122 131 119]\n",
      "offspring2 = [127 123 124 119 131 127]\n",
      "\n",
      "offsprings = [126 124 123 122 131 119 127 123 124 119 131 127]\n",
      "\n",
      "mutated_offsprings = [122 120 127 126 135 115 123 127 120 115 135 123]\n",
      "\n",
      "Final Population Finess [47580 48000 46355 46620 43875 48875 47355 46355 48000 48875 43875 47355]\n"
     ]
    }
   ],
   "source": [
    "population1=initial_population(6,(50,200))\n",
    "population2=initial_population(6,(50,200))\n",
    "mutated_offsprings=geneticAlgo(population1,population2,5)\n",
    "offsprings_fitness=np.array([fitness_eval(x) for x in mutated_offsprings])\n",
    "print(\"Final Population Finess\",offsprings_fitness)\n",
    "# print(\"fittest indivisual =\")"
   ]
  },
  {
   "cell_type": "code",
   "execution_count": 32,
   "metadata": {},
   "outputs": [
    {
     "name": "stdout",
     "output_type": "stream",
     "text": [
      "Fittest Offspring is :115 with value 48875\n"
     ]
    }
   ],
   "source": [
    "fittest_offspring=-1\n",
    "fitness_value=0\n",
    "for i in range(10):\n",
    "    if(offsprings_fitness[i]>fitness_value):\n",
    "        fittest_offspirng=mutated_offsprings[i]\n",
    "        fitness_value=offsprings_fitness[i]\n",
    "print(f\"Fittest Offspring is :{fittest_offspirng} with value {fitness_value}\")"
   ]
  }
 ],
 "metadata": {
  "kernelspec": {
   "display_name": "Python 3",
   "language": "python",
   "name": "python3"
  },
  "language_info": {
   "codemirror_mode": {
    "name": "ipython",
    "version": 3
   },
   "file_extension": ".py",
   "mimetype": "text/x-python",
   "name": "python",
   "nbconvert_exporter": "python",
   "pygments_lexer": "ipython3",
   "version": "3.8.2"
  }
 },
 "nbformat": 4,
 "nbformat_minor": 4
}
